{
 "cells": [
  {
   "cell_type": "code",
   "execution_count": 2,
   "metadata": {},
   "outputs": [],
   "source": [
    "import numpy as np\n",
    "from scipy.linalg import svd\n",
    "import pandas as pd\n",
    "from sklearn import decomposition\n",
    "from sklearn.preprocessing import StandardScaler\n",
    "from sklearn.model_selection import train_test_split\n",
    "from sklearn.preprocessing import LabelEncoder, OneHotEncoder\n",
    "import warnings\n",
    "warnings.filterwarnings(\"ignore\")"
   ]
  },
  {
   "cell_type": "code",
   "execution_count": 3,
   "metadata": {},
   "outputs": [],
   "source": [
    "ilpd = pd.read_csv('ill.csv')"
   ]
  },
  {
   "cell_type": "code",
   "execution_count": 4,
   "metadata": {
    "scrolled": true
   },
   "outputs": [],
   "source": [
    "ilpd = ilpd.replace(np.NaN,(ilpd.mean()) )"
   ]
  },
  {
   "cell_type": "code",
   "execution_count": 5,
   "metadata": {},
   "outputs": [
    {
     "name": "stdout",
     "output_type": "stream",
     "text": [
      "   Age  Gender    TB   DB  Alkphos  Sgpt  Sgot   TP  ALB     A\n",
      "0   65       0   0.7  0.1      187    16    18  6.8  3.3  0.90\n",
      "1   62       1  10.9  5.5      699    64   100  7.5  3.2  0.74\n",
      "2   62       1   7.3  4.1      490    60    68  7.0  3.3  0.89\n",
      "3   58       1   1.0  0.4      182    14    20  6.8  3.4  1.00\n",
      "4   72       1   3.9  2.0      195    27    59  7.3  2.4  0.40\n"
     ]
    }
   ],
   "source": [
    "X = ilpd[['Age','Gender','TB','DB','Alkphos','Sgpt','Sgot','TP','ALB','A']]\n",
    "labelencoder_X = LabelEncoder()\n",
    "X['Gender'] = labelencoder_X.fit_transform(X['Gender'])\n",
    "Y = ilpd['Selector']\n",
    "print(X.head())\n",
    "pca = decomposition.PCA(n_components=5)\n",
    "pca.fit(X)\n",
    "X = pca.transform(X)\n",
    "# # U ,s ,V = svd(X)"
   ]
  },
  {
   "cell_type": "code",
   "execution_count": 6,
   "metadata": {
    "scrolled": false
   },
   "outputs": [],
   "source": [
    "from sklearn.preprocessing import MinMaxScaler\n",
    "X_train, X_test, y_train, y_test = train_test_split(X,Y,test_size=0.14,random_state = 42) \n",
    "scaler = MinMaxScaler()\n",
    "X_train= scaler.fit_transform(X_train)\n",
    "X_test=scaler.transform(X_test)\n",
    "y_train=y_train.to_numpy()\n",
    "y_test=y_test.to_numpy()"
   ]
  },
  {
   "cell_type": "code",
   "execution_count": 7,
   "metadata": {},
   "outputs": [],
   "source": [
    "\n",
    "def knn(row,data,re,k):#euclidean\n",
    "    d=[]\n",
    "    #for u in data:\n",
    "    for i in range(len(data)):\n",
    "        s=0\n",
    "        for j in range(1,len(data[i])):\n",
    "            s+=(data[i][j]-row[j])**2\n",
    "        \n",
    "        d.append([s**(1/2),re[i]])\n",
    "    \n",
    "    d.sort(key=lambda x:x[0])\n",
    "    top=d[:k]\n",
    "    result={}\n",
    "    for i in top:\n",
    "        if(i[1] not in result):\n",
    "            result[i[1]]=0\n",
    "        result[i[1]]+=1*(1/i[0])\n",
    "    m=-1\n",
    "    final_classifier=0\n",
    "    for i,j in result.items():\n",
    "        if(m<j):\n",
    "            m=j\n",
    "            final_classifier=i\n",
    "    return final_classifier"
   ]
  },
  {
   "cell_type": "code",
   "execution_count": 8,
   "metadata": {},
   "outputs": [
    {
     "name": "stdout",
     "output_type": "stream",
     "text": [
      "0.8414634146341463\n",
      "85\n"
     ]
    }
   ],
   "source": [
    "acc=[]\n",
    "\n",
    "for j in range(3,100):\n",
    "    count=0\n",
    "    for i in range(82):\n",
    "        temp=knn(X_test[i],X_train,y_train,j)\n",
    "        if(temp==y_test[i]):\n",
    "            count+=1\n",
    "    acc.append(count/82)\n",
    "print(max(acc))\n",
    "print(acc.index(max(acc))+3)"
   ]
  },
  {
   "cell_type": "code",
   "execution_count": 9,
   "metadata": {},
   "outputs": [],
   "source": [
    "from sklearn.metrics.pairwise import cosine_similarity\n",
    "import matplotlib.pyplot as plt  \n",
    "index = []\n",
    "for i in range(3,500):\n",
    "    index.append(i)\n",
    "plt.plot(index, acc) \n",
    "  \n",
    "# naming the x axis \n",
    "plt.xlabel('x - axis') \n",
    "# naming the y axis \n",
    "plt.ylabel('y - axis') \n",
    "  \n",
    "\n",
    "# function to show the plot \n",
    "plt.show() "
   ]
  },
  {
   "cell_type": "code",
   "execution_count": 10,
   "metadata": {},
   "outputs": [],
   "source": [
    "def knn(row,data,re,k):#manhatten\n",
    "    d=[]\n",
    "    #for u in data:\n",
    "    for i in range(len(data)):\n",
    "        s=0\n",
    "        for j in range(1,len(data[i])):\n",
    "            s+=abs(data[i][j]-row[j])\n",
    "        \n",
    "        d.append([s,re[i]]) \n",
    "    d.sort(key=lambda x:x[0])\n",
    "    top=d[:k]\n",
    "    result={}\n",
    "    for i in top:\n",
    "        if(i[1] not in result):\n",
    "            result[i[1]]=0\n",
    "        result[i[1]]+=1*(1/i[0])\n",
    "    m=-1\n",
    "    final_classifier=0\n",
    "    for i,j in result.items():\n",
    "        if(m<j):\n",
    "            m=j\n",
    "            final_classifier=i\n",
    "    return final_classifier"
   ]
  },
  {
   "cell_type": "code",
   "execution_count": 11,
   "metadata": {},
   "outputs": [
    {
     "name": "stdout",
     "output_type": "stream",
     "text": [
      "0.8536585365853658\n",
      "82\n"
     ]
    }
   ],
   "source": [
    "acc=[]\n",
    "\n",
    "for j in range(3,500):\n",
    "    count=0\n",
    "    for i in range(82):\n",
    "        temp=knn(X_test[i],X_train,y_train,j)\n",
    "        if(temp==y_test[i]):\n",
    "            count+=1\n",
    "    acc.append(count/82)\n",
    "print(max(acc))\n",
    "print(acc.index(max(acc))+3)"
   ]
  },
  {
   "cell_type": "code",
   "execution_count": 12,
   "metadata": {},
   "outputs": [
    {
     "data": {
      "text/plain": [
       "<Figure size 640x480 with 1 Axes>"
      ]
     },
     "metadata": {},
     "output_type": "display_data"
    }
   ],
   "source": [
    "import matplotlib.pyplot as plt  \n",
    "index = []\n",
    "for i in range(3,500):\n",
    "    index.append(i)\n",
    "plt.plot(index, acc) \n",
    "  \n",
    "# naming the x axis \n",
    "plt.xlabel('x - axis') \n",
    "# naming the y axis \n",
    "plt.ylabel('y - axis') \n",
    "  \n",
    "\n",
    "# function to show the plot \n",
    "plt.show() "
   ]
  },
  {
   "cell_type": "code",
   "execution_count": 13,
   "metadata": {},
   "outputs": [],
   "source": []
  },
  {
   "cell_type": "code",
   "execution_count": null,
   "metadata": {},
   "outputs": [],
   "source": []
  }
 ],
 "metadata": {
  "kernelspec": {
   "display_name": "Python 3",
   "language": "python",
   "name": "python3"
  },
  "language_info": {
   "codemirror_mode": {
    "name": "ipython",
    "version": 3
   },
   "file_extension": ".py",
   "mimetype": "text/x-python",
   "name": "python",
   "nbconvert_exporter": "python",
   "pygments_lexer": "ipython3",
   "version": "3.7.3"
  }
 },
 "nbformat": 4,
 "nbformat_minor": 2
}
